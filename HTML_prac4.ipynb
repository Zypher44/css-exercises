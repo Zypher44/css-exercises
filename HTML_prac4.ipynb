{
  "nbformat": 4,
  "nbformat_minor": 0,
  "metadata": {
    "colab": {
      "name": "HTML prac4.ipynb",
      "provenance": [],
      "authorship_tag": "ABX9TyO4fNOWbTMWLxmsYAF6vT/b",
      "include_colab_link": true
    },
    "kernelspec": {
      "name": "python3",
      "display_name": "Python 3"
    },
    "language_info": {
      "name": "python"
    }
  },
  "cells": [
    {
      "cell_type": "markdown",
      "metadata": {
        "id": "view-in-github",
        "colab_type": "text"
      },
      "source": [
        "<a href=\"https://colab.research.google.com/github/Zypher44/css-exercises/blob/main/HTML_prac4.ipynb\" target=\"_parent\"><img src=\"https://colab.research.google.com/assets/colab-badge.svg\" alt=\"Open In Colab\"/></a>"
      ]
    },
    {
      "cell_type": "code",
      "execution_count": null,
      "metadata": {
        "id": "i1oKCc3ZfMsQ"
      },
      "outputs": [],
      "source": [
        "<!DOCTYPE html>\n",
        "<html lang=\"en\">\n",
        "<head>\n",
        "  <meta charset=\"UTF-8\">\n",
        "  <meta http-equiv=\"X-UA-Compatible\" content=\"IE=edge\">\n",
        "  <meta name=\"viewport\" content=\"width=device-width, initial-scale=1.0\">\n",
        "  <title>Fix the Cascade</title>\n",
        "  <link rel=\"stylesheet\" href=\"style.css\">\n",
        "</head>\n",
        "<body>\n",
        "  <p class=\"para\">I'm just a paragraph with red text!</p>\n",
        "  <p class=\"small-para\">I'm a smaller paragraph, also with red text!</p>\n",
        "\n",
        "  <button id=\"confirm-button\" class=\"button confirm\">Confirm</button>\n",
        "  <button id=\"cancel-button\" class=\"button cancel\">Cancel</button>\n",
        "\n",
        "  <div class=\"text\">I'm a div with green text!</div>\n",
        "  <div class=\"text\">I'm a div with green text and a child div!\n",
        "    <div class=\"text child\">I'm a smaller child div with red text.</div>\n",
        "  </div>\n",
        "</body>\n",
        "</html>\n",
        "  "
      ]
    },
    {
      "cell_type": "code",
      "source": [
        ".para,\n",
        ".small-para {\n",
        "  color: hsl(0, 100%, 50%);\n",
        "}\n",
        "\n",
        ".small-para {\n",
        "  font-size: 14px;\n",
        "}\n",
        "\n",
        ".para {\n",
        "  font-size: 22px;\n",
        "}\n",
        "\n",
        ".confirm.button {\n",
        "  background: green;\n",
        "  color: white;\n",
        "  font-weight: bold;\n",
        "} \n",
        "\n",
        ".button {\n",
        "  background-color: rgb(255, 255, 255);\n",
        "  color: rgb(0, 0, 0);\n",
        "  font-size: 20px;\n",
        "}\n",
        "\n",
        ".text.child {\n",
        "  color: red;\n",
        "  font-size: 14px;\n",
        "}\n",
        "\n",
        "div.text {\n",
        "  color: green;\n",
        "  font-size: 22px;\n",
        "}"
      ],
      "metadata": {
        "id": "wTy-ZP0_j-3P"
      },
      "execution_count": null,
      "outputs": []
    }
  ]
}