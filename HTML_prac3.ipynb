{
  "nbformat": 4,
  "nbformat_minor": 0,
  "metadata": {
    "colab": {
      "name": "HTML prac3.ipynb",
      "provenance": [],
      "authorship_tag": "ABX9TyM/CH9Xj5ppcbZIEMosCLV3",
      "include_colab_link": true
    },
    "kernelspec": {
      "name": "python3",
      "display_name": "Python 3"
    },
    "language_info": {
      "name": "python"
    }
  },
  "cells": [
    {
      "cell_type": "markdown",
      "metadata": {
        "id": "view-in-github",
        "colab_type": "text"
      },
      "source": [
        "<a href=\"https://colab.research.google.com/github/Zypher44/css-exercises/blob/main/HTML_prac3.ipynb\" target=\"_parent\"><img src=\"https://colab.research.google.com/assets/colab-badge.svg\" alt=\"Open In Colab\"/></a>"
      ]
    },
    {
      "cell_type": "code",
      "execution_count": null,
      "metadata": {
        "id": "i1oKCc3ZfMsQ"
      },
      "outputs": [],
      "source": [
        "<!DOCTYPE html>\n",
        "<html lang=\"en\">\n",
        "<head>\n",
        "  <meta charset=\"UTF-8\">\n",
        "  <meta http-equiv=\"X-UA-Compatible\" content=\"IE=edge\">\n",
        "  <meta name=\"viewport\" content=\"width=device-width, initial-scale=1.0\">\n",
        "  <title>Descendant Combinator</title>\n",
        "  <link rel=\"stylesheet\" href=\"style.css\">\n",
        "</head>\n",
        "<body>\n",
        "  <div class=\"container\">\n",
        "    <p class=\"text\">This should be styled.</p>\n",
        "  </div>\n",
        "  <p class=\"text\">This should be unstyled.</p>\n",
        "  <p class=\"text\">This should be unstyled.</p>\n",
        "  <div class=\"container\">\n",
        "    <p class=\"text\">This should be styled.</p>\n",
        "    <p class=\"text\">This should be styled.</p>\n",
        "  </div>\n",
        "</body>\n",
        "</html>"
      ]
    },
    {
      "cell_type": "code",
      "source": [
        ".container .text{\n",
        "    background-color: yellow;\n",
        "    color: red;\n",
        "    font-size: 20px;\n",
        "    text-align: center;\n",
        "\n",
        "}"
      ],
      "metadata": {
        "id": "wTy-ZP0_j-3P"
      },
      "execution_count": null,
      "outputs": []
    }
  ]
}