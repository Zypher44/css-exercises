{
  "nbformat": 4,
  "nbformat_minor": 0,
  "metadata": {
    "colab": {
      "name": "HTML prac2.ipynb",
      "provenance": [],
      "authorship_tag": "ABX9TyNLY0OK0nfVCnV1PYWrziBr",
      "include_colab_link": true
    },
    "kernelspec": {
      "name": "python3",
      "display_name": "Python 3"
    },
    "language_info": {
      "name": "python"
    }
  },
  "cells": [
    {
      "cell_type": "markdown",
      "metadata": {
        "id": "view-in-github",
        "colab_type": "text"
      },
      "source": [
        "<a href=\"https://colab.research.google.com/github/Zypher44/css-exercises/blob/main/HTML_prac2.ipynb\" target=\"_parent\"><img src=\"https://colab.research.google.com/assets/colab-badge.svg\" alt=\"Open In Colab\"/></a>"
      ]
    },
    {
      "cell_type": "code",
      "execution_count": null,
      "metadata": {
        "id": "i1oKCc3ZfMsQ"
      },
      "outputs": [],
      "source": [
        "<!DOCTYPE html>\n",
        "<html lang=\"en\">\n",
        "<head>\n",
        "  <meta charset=\"UTF-8\">\n",
        "  <meta http-equiv=\"X-UA-Compatible\" content=\"IE=edge\">\n",
        "  <meta name=\"viewport\" content=\"width=device-width, initial-scale=1.0\">\n",
        "  <title>Chaining Selectors</title>\n",
        "  <link rel=\"stylesheet\" href=\"style.css\">\n",
        "</head>\n",
        "<body>\n",
        "  <!-- Use the classes BELOW this line -->\n",
        "  <div>\n",
        "    <img class=\"avatar proportioned\" src=\"./pexels-katho-mutodo-8434791.jpg\" alt=\"\">\n",
        "    <img class=\"avatar distorted\" src=\"./pexels-andrea-piacquadio-3777931.jpg\" alt=\"\">\n",
        "  </div>\n",
        "  <!-- Use the classes ABOVE this line -->\n",
        "  <div>\n",
        "    <img class=\"original proportioned\" src=\"./pexels-katho-mutodo-8434791.jpg\" alt=\"\">\n",
        "    <img class=\"original distorted\" src=\"./pexels-andrea-piacquadio-3777931.jpg\" alt=\"\">\n",
        "  </div>\n",
        "</body>\n",
        "</html>"
      ]
    },
    {
      "cell_type": "code",
      "source": [
        ".avatar.proportioned,\n",
        ".original.proportioned{\n",
        "width: 300px;\n",
        "height: auto;\n",
        "}\n",
        "\n",
        ".avatar.distorted,\n",
        ".original.distorted{\n",
        "    width: 200px;\n",
        "    height: 400px;\n",
        "}"
      ],
      "metadata": {
        "id": "V_wrqSqqfRg_"
      },
      "execution_count": null,
      "outputs": []
    }
  ]
}