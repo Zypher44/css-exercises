{
  "nbformat": 4,
  "nbformat_minor": 0,
  "metadata": {
    "colab": {
      "name": "Html and CSS practice.ipynb",
      "provenance": [],
      "authorship_tag": "ABX9TyNNnQFUeLtHwTJ6KymiDCDh",
      "include_colab_link": true
    },
    "kernelspec": {
      "name": "python3",
      "display_name": "Python 3"
    },
    "language_info": {
      "name": "python"
    }
  },
  "cells": [
    {
      "cell_type": "markdown",
      "metadata": {
        "id": "view-in-github",
        "colab_type": "text"
      },
      "source": [
        "<a href=\"https://colab.research.google.com/github/Zypher44/css-exercises/blob/main/Html_and_CSS_practice.ipynb\" target=\"_parent\"><img src=\"https://colab.research.google.com/assets/colab-badge.svg\" alt=\"Open In Colab\"/></a>"
      ]
    },
    {
      "cell_type": "code",
      "execution_count": null,
      "metadata": {
        "id": "04cb06WgAKzJ"
      },
      "outputs": [],
      "source": [
        "<!DOCTYPE html>\n",
        "<html lang=\"en\">\n",
        "<head>\n",
        "  <meta charset=\"UTF-8\">\n",
        "  <meta http-equiv=\"X-UA-Compatible\" content=\"IE=edge\">\n",
        "  <meta name=\"viewport\" content=\"width=device-width, initial-scale=1.0\">\n",
        "  <title>Grouping Selectors</title>\n",
        "  <link rel=\"stylesheet\" href=\"style.css\">\n",
        "</head>\n",
        "<body>\n",
        "  <button class=\"Button1\">Click Me!</button>\n",
        "  <button class=\"Button2\">No, Click Me!</button>\n",
        "</body>\n",
        "</html>"
      ]
    },
    {
      "cell_type": "code",
      "source": [
        ".Button1,\n",
        ".Button2 {\n",
        "    font-size: 28px;\n",
        "    font-family: Arial, Helvetica, sans-serif;\n",
        "\n",
        "}\n",
        "\n",
        ".Button1{\n",
        "    background-color: black;\n",
        "    color: white;\n",
        "}\n",
        "\n",
        ".Button2{\n",
        "    background-color: yellow;\n",
        "}"
      ],
      "metadata": {
        "id": "r-4a3HDRAPFm"
      },
      "execution_count": null,
      "outputs": []
    }
  ]
}